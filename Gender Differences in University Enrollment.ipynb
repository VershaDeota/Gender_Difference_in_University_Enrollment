{
 "cells": [
  {
   "cell_type": "markdown",
   "metadata": {
    "ExecuteTime": {
     "end_time": "2018-01-23T04:31:51.255588Z",
     "start_time": "2018-01-23T04:31:51.252836Z"
    }
   },
   "source": [
    "# Gender Differences in University Enrollment"
   ]
  },
  {
   "cell_type": "markdown",
   "metadata": {},
   "source": [
    "The dataset `universities.csv`for this analysis can be accesses from [National Center for Education Statistics]\n",
    "\n",
    "This is data from the (https://nces.ed.gov/ipeds/datacenter/DataFiles.aspx). \n",
    "\n",
    "We are going to develop **three** plots:\n",
    "1. A boxplot of the average number of total enrollment for the states in the U.S. West\n",
    "    * The States in the U.S. West are\n",
    "        * Alaska\n",
    "        * Arizona\n",
    "        * California\n",
    "        * Colorado\n",
    "        * Hawaii\n",
    "        * Idaho\n",
    "        * Montana\n",
    "        * Nevada\n",
    "        * New Mexico\n",
    "        * Oregon\n",
    "        * Utah\n",
    "        * Washington\n",
    "        * Wyoming (see prepared list `uswest`)\n",
    "    * Order the plot based on the number of institutions in the state\n",
    "2. A boxplot of the average number of enrollment per gender category (hue) and state in the U.S. West\n",
    "    * Please notice that enrollment numbers for men and women are in two separate columns.\n",
    "    * Hue requires one column, which means you have to 'melt' the dataset ([Link](https://pandas.pydata.org/pandas-docs/stable/generated/pandas.melt.html)).\n",
    "    * The results should be a dataframe with two rows (one for men, one for women) for each university\n",
    "3. A ordered barplot of the ratio of admissions for men and women for universities in the Bay Area\n",
    "    * We assume that the Bay Area is characterized with zip codes that start with `950` and `94`\n",
    "    * Focus on institutions with more than 1,000 enrollments.\n",
    "    * Develop the ratio of admissions for women and for men. Standardize this ratio on the mean. \n",
    "4. Interpretation of the plots in terms of gender differences. "
   ]
  },
  {
   "cell_type": "code",
   "execution_count": 1,
   "metadata": {
    "ExecuteTime": {
     "end_time": "2018-02-13T17:45:19.822310Z",
     "start_time": "2018-02-13T17:45:19.816703Z"
    }
   },
   "outputs": [],
   "source": [
    "from IPython.core.interactiveshell import InteractiveShell\n",
    "InteractiveShell.ast_node_interactivity = \"all\""
   ]
  },
  {
   "cell_type": "code",
   "execution_count": 2,
   "metadata": {
    "ExecuteTime": {
     "end_time": "2018-02-13T17:45:20.792374Z",
     "start_time": "2018-02-13T17:45:20.557515Z"
    }
   },
   "outputs": [],
   "source": [
    "import numpy as np\n",
    "import pandas as pd"
   ]
  },
  {
   "cell_type": "code",
   "execution_count": 3,
   "metadata": {
    "ExecuteTime": {
     "end_time": "2018-02-13T17:45:23.621448Z",
     "start_time": "2018-02-13T17:45:23.424111Z"
    }
   },
   "outputs": [],
   "source": [
    "c = students = pd.read_csv('universities.csv')"
   ]
  },
  {
   "cell_type": "code",
   "execution_count": 4,
   "metadata": {
    "ExecuteTime": {
     "end_time": "2018-02-13T17:45:25.590732Z",
     "start_time": "2018-02-13T17:45:25.149151Z"
    }
   },
   "outputs": [],
   "source": [
    "import seaborn as sn\n",
    "import matplotlib.pyplot as plt\n",
    "%matplotlib inline"
   ]
  },
  {
   "cell_type": "code",
   "execution_count": 5,
   "metadata": {
    "ExecuteTime": {
     "end_time": "2018-02-13T17:46:02.458031Z",
     "start_time": "2018-02-13T17:46:02.452375Z"
    }
   },
   "outputs": [],
   "source": [
    "uswest = ['AK','AZ','CA', 'CO', 'HI', 'ID', 'MT', 'NV', 'NM', 'OR', 'UT', 'WA', 'WY']"
   ]
  },
  {
   "cell_type": "markdown",
   "metadata": {},
   "source": [
    "### Filtering the dataset for the states in the U.S. West"
   ]
  },
  {
   "cell_type": "markdown",
   "metadata": {},
   "source": [
    "Selecting only records which has finite value in the enrollment column"
   ]
  },
  {
   "cell_type": "code",
   "execution_count": 6,
   "metadata": {},
   "outputs": [
    {
     "data": {
      "text/html": [
       "<div>\n",
       "<style scoped>\n",
       "    .dataframe tbody tr th:only-of-type {\n",
       "        vertical-align: middle;\n",
       "    }\n",
       "\n",
       "    .dataframe tbody tr th {\n",
       "        vertical-align: top;\n",
       "    }\n",
       "\n",
       "    .dataframe thead th {\n",
       "        text-align: right;\n",
       "    }\n",
       "</style>\n",
       "<table border=\"1\" class=\"dataframe\">\n",
       "  <thead>\n",
       "    <tr style=\"text-align: right;\">\n",
       "      <th></th>\n",
       "      <th>UNITID</th>\n",
       "      <th>INSTNM</th>\n",
       "      <th>ZIP</th>\n",
       "      <th>STABBR</th>\n",
       "      <th>ENRLT</th>\n",
       "      <th>ENRLM</th>\n",
       "      <th>ENRLW</th>\n",
       "      <th>ADMSSNW</th>\n",
       "      <th>ADMSSNM</th>\n",
       "    </tr>\n",
       "  </thead>\n",
       "  <tbody>\n",
       "    <tr>\n",
       "      <th>62</th>\n",
       "      <td>102553</td>\n",
       "      <td>University of Alaska Anchorage</td>\n",
       "      <td>99508</td>\n",
       "      <td>AK</td>\n",
       "      <td>1744.0</td>\n",
       "      <td>776.0</td>\n",
       "      <td>968.0</td>\n",
       "      <td>1738.0</td>\n",
       "      <td>1266.0</td>\n",
       "    </tr>\n",
       "    <tr>\n",
       "      <th>64</th>\n",
       "      <td>102614</td>\n",
       "      <td>University of Alaska Fairbanks</td>\n",
       "      <td>99775-7500</td>\n",
       "      <td>AK</td>\n",
       "      <td>775.0</td>\n",
       "      <td>392.0</td>\n",
       "      <td>383.0</td>\n",
       "      <td>587.0</td>\n",
       "      <td>557.0</td>\n",
       "    </tr>\n",
       "    <tr>\n",
       "      <th>65</th>\n",
       "      <td>102632</td>\n",
       "      <td>University of Alaska Southeast</td>\n",
       "      <td>99801-8697</td>\n",
       "      <td>AK</td>\n",
       "      <td>162.0</td>\n",
       "      <td>59.0</td>\n",
       "      <td>103.0</td>\n",
       "      <td>115.0</td>\n",
       "      <td>73.0</td>\n",
       "    </tr>\n",
       "    <tr>\n",
       "      <th>66</th>\n",
       "      <td>102669</td>\n",
       "      <td>Alaska Pacific University</td>\n",
       "      <td>99508</td>\n",
       "      <td>AK</td>\n",
       "      <td>41.0</td>\n",
       "      <td>15.0</td>\n",
       "      <td>26.0</td>\n",
       "      <td>172.0</td>\n",
       "      <td>89.0</td>\n",
       "    </tr>\n",
       "    <tr>\n",
       "      <th>75</th>\n",
       "      <td>103893</td>\n",
       "      <td>Carrington College-Phoenix North</td>\n",
       "      <td>85051-4063</td>\n",
       "      <td>AZ</td>\n",
       "      <td>101.0</td>\n",
       "      <td>15.0</td>\n",
       "      <td>86.0</td>\n",
       "      <td>153.0</td>\n",
       "      <td>27.0</td>\n",
       "    </tr>\n",
       "  </tbody>\n",
       "</table>\n",
       "</div>"
      ],
      "text/plain": [
       "    UNITID                            INSTNM         ZIP STABBR   ENRLT  \\\n",
       "62  102553    University of Alaska Anchorage       99508     AK  1744.0   \n",
       "64  102614    University of Alaska Fairbanks  99775-7500     AK   775.0   \n",
       "65  102632    University of Alaska Southeast  99801-8697     AK   162.0   \n",
       "66  102669         Alaska Pacific University       99508     AK    41.0   \n",
       "75  103893  Carrington College-Phoenix North  85051-4063     AZ   101.0   \n",
       "\n",
       "    ENRLM  ENRLW  ADMSSNW  ADMSSNM  \n",
       "62  776.0  968.0   1738.0   1266.0  \n",
       "64  392.0  383.0    587.0    557.0  \n",
       "65   59.0  103.0    115.0     73.0  \n",
       "66   15.0   26.0    172.0     89.0  \n",
       "75   15.0   86.0    153.0     27.0  "
      ]
     },
     "execution_count": 6,
     "metadata": {},
     "output_type": "execute_result"
    }
   ],
   "source": [
    "west_df=c[c['STABBR'].isin(uswest)]\n",
    "west_df=west_df[np.isfinite(west_df['ENRLT'])]\n",
    "west_df.head()"
   ]
  },
  {
   "cell_type": "markdown",
   "metadata": {},
   "source": [
    "### Boxplot of the dataset for states in U.S. West"
   ]
  },
  {
   "cell_type": "code",
   "execution_count": 7,
   "metadata": {},
   "outputs": [
    {
     "data": {
      "image/png": "[encoded data removed]",
      "text/plain": [
       "<matplotlib.figure.Figure at 0x13d4c670>"
      ]
     },
     "metadata": {},
     "output_type": "display_data"
    }
   ],
   "source": [
    "plt.figure(figsize=(14,6))\n",
    "ax=sn.boxplot(y='ENRLT', x='STABBR',data=west_df)\n",
    "ax.set_xlabel('States in U.S. West',fontname=\"Arial\", fontsize=14);\n",
    "ax.set_ylabel('Total number of enrollments',fontname=\"Arial\", fontsize=14);\n",
    "ax.set_title('Total number of enrollment for the states in the U.S. West',fontname=\"Arial\", fontsize=14);"
   ]
  },
  {
   "cell_type": "markdown",
   "metadata": {},
   "source": [
    "###  Calculating average number of total enrollment for the states in the U.S. West and sorting the values by number of enrollments per institutions"
   ]
  },
  {
   "cell_type": "code",
   "execution_count": 8,
   "metadata": {},
   "outputs": [
    {
     "data": {
      "text/html": [
       "<div>\n",
       "<style scoped>\n",
       "    .dataframe tbody tr th:only-of-type {\n",
       "        vertical-align: middle;\n",
       "    }\n",
       "\n",
       "    .dataframe tbody tr th {\n",
       "        vertical-align: top;\n",
       "    }\n",
       "\n",
       "    .dataframe thead th {\n",
       "        text-align: right;\n",
       "    }\n",
       "</style>\n",
       "<table border=\"1\" class=\"dataframe\">\n",
       "  <thead>\n",
       "    <tr style=\"text-align: right;\">\n",
       "      <th></th>\n",
       "      <th>STABBR</th>\n",
       "      <th>mean</th>\n",
       "      <th>count</th>\n",
       "    </tr>\n",
       "  </thead>\n",
       "  <tbody>\n",
       "    <tr>\n",
       "      <th>0</th>\n",
       "      <td>WY</td>\n",
       "      <td>1551.000000</td>\n",
       "      <td>1</td>\n",
       "    </tr>\n",
       "    <tr>\n",
       "      <th>1</th>\n",
       "      <td>AK</td>\n",
       "      <td>680.500000</td>\n",
       "      <td>4</td>\n",
       "    </tr>\n",
       "    <tr>\n",
       "      <th>2</th>\n",
       "      <td>HI</td>\n",
       "      <td>491.750000</td>\n",
       "      <td>8</td>\n",
       "    </tr>\n",
       "    <tr>\n",
       "      <th>3</th>\n",
       "      <td>MT</td>\n",
       "      <td>780.250000</td>\n",
       "      <td>8</td>\n",
       "    </tr>\n",
       "    <tr>\n",
       "      <th>4</th>\n",
       "      <td>UT</td>\n",
       "      <td>1935.250000</td>\n",
       "      <td>8</td>\n",
       "    </tr>\n",
       "    <tr>\n",
       "      <th>5</th>\n",
       "      <td>ID</td>\n",
       "      <td>1062.444444</td>\n",
       "      <td>9</td>\n",
       "    </tr>\n",
       "    <tr>\n",
       "      <th>6</th>\n",
       "      <td>NM</td>\n",
       "      <td>692.900000</td>\n",
       "      <td>10</td>\n",
       "    </tr>\n",
       "    <tr>\n",
       "      <th>7</th>\n",
       "      <td>NV</td>\n",
       "      <td>790.200000</td>\n",
       "      <td>10</td>\n",
       "    </tr>\n",
       "    <tr>\n",
       "      <th>8</th>\n",
       "      <td>AZ</td>\n",
       "      <td>1575.947368</td>\n",
       "      <td>19</td>\n",
       "    </tr>\n",
       "    <tr>\n",
       "      <th>9</th>\n",
       "      <td>CO</td>\n",
       "      <td>1203.833333</td>\n",
       "      <td>24</td>\n",
       "    </tr>\n",
       "    <tr>\n",
       "      <th>10</th>\n",
       "      <td>WA</td>\n",
       "      <td>1085.833333</td>\n",
       "      <td>24</td>\n",
       "    </tr>\n",
       "    <tr>\n",
       "      <th>11</th>\n",
       "      <td>OR</td>\n",
       "      <td>541.451613</td>\n",
       "      <td>31</td>\n",
       "    </tr>\n",
       "    <tr>\n",
       "      <th>12</th>\n",
       "      <td>CA</td>\n",
       "      <td>986.444444</td>\n",
       "      <td>144</td>\n",
       "    </tr>\n",
       "  </tbody>\n",
       "</table>\n",
       "</div>"
      ],
      "text/plain": [
       "   STABBR         mean  count\n",
       "0      WY  1551.000000      1\n",
       "1      AK   680.500000      4\n",
       "2      HI   491.750000      8\n",
       "3      MT   780.250000      8\n",
       "4      UT  1935.250000      8\n",
       "5      ID  1062.444444      9\n",
       "6      NM   692.900000     10\n",
       "7      NV   790.200000     10\n",
       "8      AZ  1575.947368     19\n",
       "9      CO  1203.833333     24\n",
       "10     WA  1085.833333     24\n",
       "11     OR   541.451613     31\n",
       "12     CA   986.444444    144"
      ]
     },
     "execution_count": 8,
     "metadata": {},
     "output_type": "execute_result"
    }
   ],
   "source": [
    "west_df_enrl=west_df.groupby('STABBR')['ENRLT'].agg(['mean','count']).sort_values(by='count' ).reset_index()\n",
    "west_df_enrl"
   ]
  },
  {
   "cell_type": "markdown",
   "metadata": {},
   "source": [
    "### Boxplot of average number of total enrollment for the states in the U.S. West, keeping order of the plot based on the number of institutions in the state"
   ]
  },
  {
   "cell_type": "code",
   "execution_count": 9,
   "metadata": {},
   "outputs": [
    {
     "data": {
      "image/png": "[encoded data removed]",
      "text/plain": [
       "<matplotlib.figure.Figure at 0x1501a0f0>"
      ]
     },
     "metadata": {},
     "output_type": "display_data"
    }
   ],
   "source": [
    "plt.figure(figsize=(12,6)) \n",
    "ax=sn.boxplot(y='mean', x='STABBR',data=west_df_enrl);\n",
    "ax.set_xlabel('States in U.S. West',fontname=\"Arial\", fontsize=14);\n",
    "ax.set_ylabel('Average number of enrollments',fontname=\"Arial\", fontsize=14);\n",
    "ax.set_title('Average number of total enrollment for the states in the U.S. West',fontname=\"Arial\", fontsize=14);"
   ]
  },
  {
   "cell_type": "markdown",
   "metadata": {},
   "source": [
    "### Melting the dataset"
   ]
  },
  {
   "cell_type": "markdown",
   "metadata": {},
   "source": [
    "The enrollment numbers for men and women are in two separate columns, therefore for hue to function we need to melt the dataset to bring enrollment number of men and women in one column."
   ]
  },
  {
   "cell_type": "code",
   "execution_count": 10,
   "metadata": {},
   "outputs": [],
   "source": [
    "west_df_melt=pd.melt(west_df, id_vars=['STABBR','INSTNM'], value_vars=['ENRLM', 'ENRLW'],var_name='ENRL_TYPE',value_name='VALUE')"
   ]
  },
  {
   "cell_type": "markdown",
   "metadata": {},
   "source": [
    "Checking if melting worked correctly"
   ]
  },
  {
   "cell_type": "code",
   "execution_count": 11,
   "metadata": {},
   "outputs": [
    {
     "data": {
      "text/html": [
       "<div>\n",
       "<style scoped>\n",
       "    .dataframe tbody tr th:only-of-type {\n",
       "        vertical-align: middle;\n",
       "    }\n",
       "\n",
       "    .dataframe tbody tr th {\n",
       "        vertical-align: top;\n",
       "    }\n",
       "\n",
       "    .dataframe thead th {\n",
       "        text-align: right;\n",
       "    }\n",
       "</style>\n",
       "<table border=\"1\" class=\"dataframe\">\n",
       "  <thead>\n",
       "    <tr style=\"text-align: right;\">\n",
       "      <th></th>\n",
       "      <th>STABBR</th>\n",
       "      <th>INSTNM</th>\n",
       "      <th>ENRL_TYPE</th>\n",
       "      <th>VALUE</th>\n",
       "    </tr>\n",
       "  </thead>\n",
       "  <tbody>\n",
       "    <tr>\n",
       "      <th>0</th>\n",
       "      <td>AK</td>\n",
       "      <td>University of Alaska Anchorage</td>\n",
       "      <td>ENRLM</td>\n",
       "      <td>776.0</td>\n",
       "    </tr>\n",
       "    <tr>\n",
       "      <th>300</th>\n",
       "      <td>AK</td>\n",
       "      <td>University of Alaska Anchorage</td>\n",
       "      <td>ENRLW</td>\n",
       "      <td>968.0</td>\n",
       "    </tr>\n",
       "  </tbody>\n",
       "</table>\n",
       "</div>"
      ],
      "text/plain": [
       "    STABBR                          INSTNM ENRL_TYPE  VALUE\n",
       "0       AK  University of Alaska Anchorage     ENRLM  776.0\n",
       "300     AK  University of Alaska Anchorage     ENRLW  968.0"
      ]
     },
     "execution_count": 11,
     "metadata": {},
     "output_type": "execute_result"
    }
   ],
   "source": [
    "west_df_melt[west_df_melt['INSTNM']=='University of Alaska Anchorage']"
   ]
  },
  {
   "cell_type": "markdown",
   "metadata": {},
   "source": [
    "### Calculating the average number of enrollment per gender category (hue) and state in the U.S. West"
   ]
  },
  {
   "cell_type": "code",
   "execution_count": 12,
   "metadata": {},
   "outputs": [
    {
     "data": {
      "text/html": [
       "<div>\n",
       "<style scoped>\n",
       "    .dataframe tbody tr th:only-of-type {\n",
       "        vertical-align: middle;\n",
       "    }\n",
       "\n",
       "    .dataframe tbody tr th {\n",
       "        vertical-align: top;\n",
       "    }\n",
       "\n",
       "    .dataframe thead th {\n",
       "        text-align: right;\n",
       "    }\n",
       "</style>\n",
       "<table border=\"1\" class=\"dataframe\">\n",
       "  <thead>\n",
       "    <tr style=\"text-align: right;\">\n",
       "      <th></th>\n",
       "      <th>STABBR</th>\n",
       "      <th>ENRL_TYPE</th>\n",
       "      <th>VALUE</th>\n",
       "    </tr>\n",
       "  </thead>\n",
       "  <tbody>\n",
       "    <tr>\n",
       "      <th>0</th>\n",
       "      <td>AK</td>\n",
       "      <td>ENRLM</td>\n",
       "      <td>310.500000</td>\n",
       "    </tr>\n",
       "    <tr>\n",
       "      <th>1</th>\n",
       "      <td>AK</td>\n",
       "      <td>ENRLW</td>\n",
       "      <td>370.000000</td>\n",
       "    </tr>\n",
       "    <tr>\n",
       "      <th>2</th>\n",
       "      <td>AZ</td>\n",
       "      <td>ENRLM</td>\n",
       "      <td>768.888889</td>\n",
       "    </tr>\n",
       "    <tr>\n",
       "      <th>3</th>\n",
       "      <td>AZ</td>\n",
       "      <td>ENRLW</td>\n",
       "      <td>847.263158</td>\n",
       "    </tr>\n",
       "    <tr>\n",
       "      <th>4</th>\n",
       "      <td>CA</td>\n",
       "      <td>ENRLM</td>\n",
       "      <td>433.884892</td>\n",
       "    </tr>\n",
       "  </tbody>\n",
       "</table>\n",
       "</div>"
      ],
      "text/plain": [
       "  STABBR ENRL_TYPE       VALUE\n",
       "0     AK     ENRLM  310.500000\n",
       "1     AK     ENRLW  370.000000\n",
       "2     AZ     ENRLM  768.888889\n",
       "3     AZ     ENRLW  847.263158\n",
       "4     CA     ENRLM  433.884892"
      ]
     },
     "execution_count": 12,
     "metadata": {},
     "output_type": "execute_result"
    }
   ],
   "source": [
    "Gen_enrl_df=pd.DataFrame(west_df_melt.groupby(['STABBR','ENRL_TYPE'])['VALUE'].mean().reset_index())\n",
    "Gen_enrl_df.sort_values(by='STABBR').head()"
   ]
  },
  {
   "cell_type": "markdown",
   "metadata": {},
   "source": [
    "### Plotting the Boxplot for average number of enrollment per gender category (hue) and state in the U.S. West"
   ]
  },
  {
   "cell_type": "code",
   "execution_count": 13,
   "metadata": {},
   "outputs": [
    {
     "data": {
      "image/png": "[encoded data removed]",
      "text/plain": [
       "<matplotlib.figure.Figure at 0x150396d0>"
      ]
     },
     "metadata": {},
     "output_type": "display_data"
    }
   ],
   "source": [
    "plt.figure(figsize=(15,15))\n",
    "ax=sn.boxplot(y='VALUE', x='STABBR',hue='ENRL_TYPE', data=west_df_melt, showmeans=True);\n",
    "ax.set_title(\"The average number of enrollment per gender category and state in the U.S. West\",fontname=\"Arial\", fontsize=15);\n",
    "ax.set_xlabel('States in U.S. West',fontname=\"Arial\", fontsize=14)\n",
    "ax.set_ylabel('Average number of enrollments',fontname=\"Arial\", fontsize=14);\n",
    "plt.yticks(np.arange(0, 4750, 500.0));"
   ]
  },
  {
   "cell_type": "markdown",
   "metadata": {},
   "source": [
    "### Filtering the dataset for records in Bay Area"
   ]
  },
  {
   "cell_type": "markdown",
   "metadata": {},
   "source": [
    "We assume that the Bay Area is characterized with zip codes that start with 950 and 94"
   ]
  },
  {
   "cell_type": "code",
   "execution_count": 14,
   "metadata": {},
   "outputs": [],
   "source": [
    "bay_df=students[students['ZIP'].str.startswith('950') | students['ZIP'].str.startswith('94')]"
   ]
  },
  {
   "cell_type": "markdown",
   "metadata": {},
   "source": [
    "We will focus on the institution having more than 1000 enrollment"
   ]
  },
  {
   "cell_type": "code",
   "execution_count": 15,
   "metadata": {},
   "outputs": [],
   "source": [
    "bay_df=bay_df[bay_df['ENRLT'] >1000]"
   ]
  },
  {
   "cell_type": "markdown",
   "metadata": {},
   "source": [
    "### Calculating ratio of admissions for women and men for universities in the Bay Area"
   ]
  },
  {
   "cell_type": "code",
   "execution_count": 16,
   "metadata": {},
   "outputs": [
    {
     "data": {
      "text/html": [
       "<div>\n",
       "<style scoped>\n",
       "    .dataframe tbody tr th:only-of-type {\n",
       "        vertical-align: middle;\n",
       "    }\n",
       "\n",
       "    .dataframe tbody tr th {\n",
       "        vertical-align: top;\n",
       "    }\n",
       "\n",
       "    .dataframe thead th {\n",
       "        text-align: right;\n",
       "    }\n",
       "</style>\n",
       "<table border=\"1\" class=\"dataframe\">\n",
       "  <thead>\n",
       "    <tr style=\"text-align: right;\">\n",
       "      <th></th>\n",
       "      <th>UNITID</th>\n",
       "      <th>INSTNM</th>\n",
       "      <th>ZIP</th>\n",
       "      <th>STABBR</th>\n",
       "      <th>ENRLT</th>\n",
       "      <th>ENRLM</th>\n",
       "      <th>ENRLW</th>\n",
       "      <th>ADMSSNW</th>\n",
       "      <th>ADMSSNM</th>\n",
       "      <th>Ratio</th>\n",
       "    </tr>\n",
       "  </thead>\n",
       "  <tbody>\n",
       "    <tr>\n",
       "      <th>241</th>\n",
       "      <td>110574</td>\n",
       "      <td>California State University-East Bay</td>\n",
       "      <td>94542</td>\n",
       "      <td>CA</td>\n",
       "      <td>1596.0</td>\n",
       "      <td>588.0</td>\n",
       "      <td>1008.0</td>\n",
       "      <td>7039.0</td>\n",
       "      <td>3891.0</td>\n",
       "      <td>1.809047</td>\n",
       "    </tr>\n",
       "    <tr>\n",
       "      <th>246</th>\n",
       "      <td>110635</td>\n",
       "      <td>University of California-Berkeley</td>\n",
       "      <td>94720</td>\n",
       "      <td>CA</td>\n",
       "      <td>6182.0</td>\n",
       "      <td>2997.0</td>\n",
       "      <td>3185.0</td>\n",
       "      <td>7766.0</td>\n",
       "      <td>6209.0</td>\n",
       "      <td>1.250765</td>\n",
       "    </tr>\n",
       "    <tr>\n",
       "      <th>254</th>\n",
       "      <td>110714</td>\n",
       "      <td>University of California-Santa Cruz</td>\n",
       "      <td>95064-1011</td>\n",
       "      <td>CA</td>\n",
       "      <td>4221.0</td>\n",
       "      <td>2149.0</td>\n",
       "      <td>2072.0</td>\n",
       "      <td>15883.0</td>\n",
       "      <td>12569.0</td>\n",
       "      <td>1.263665</td>\n",
       "    </tr>\n",
       "    <tr>\n",
       "      <th>490</th>\n",
       "      <td>122597</td>\n",
       "      <td>San Francisco State University</td>\n",
       "      <td>94132</td>\n",
       "      <td>CA</td>\n",
       "      <td>3642.0</td>\n",
       "      <td>1483.0</td>\n",
       "      <td>2159.0</td>\n",
       "      <td>15688.0</td>\n",
       "      <td>9016.0</td>\n",
       "      <td>1.740018</td>\n",
       "    </tr>\n",
       "    <tr>\n",
       "      <th>492</th>\n",
       "      <td>122612</td>\n",
       "      <td>University of San Francisco</td>\n",
       "      <td>94117-1080</td>\n",
       "      <td>CA</td>\n",
       "      <td>1587.0</td>\n",
       "      <td>576.0</td>\n",
       "      <td>1011.0</td>\n",
       "      <td>7245.0</td>\n",
       "      <td>3666.0</td>\n",
       "      <td>1.976268</td>\n",
       "    </tr>\n",
       "    <tr>\n",
       "      <th>505</th>\n",
       "      <td>122931</td>\n",
       "      <td>Santa Clara University</td>\n",
       "      <td>95053</td>\n",
       "      <td>CA</td>\n",
       "      <td>1317.0</td>\n",
       "      <td>650.0</td>\n",
       "      <td>667.0</td>\n",
       "      <td>4271.0</td>\n",
       "      <td>3377.0</td>\n",
       "      <td>1.264732</td>\n",
       "    </tr>\n",
       "    <tr>\n",
       "      <th>524</th>\n",
       "      <td>123572</td>\n",
       "      <td>Sonoma State University</td>\n",
       "      <td>94928-3609</td>\n",
       "      <td>CA</td>\n",
       "      <td>1806.0</td>\n",
       "      <td>629.0</td>\n",
       "      <td>1177.0</td>\n",
       "      <td>8307.0</td>\n",
       "      <td>4268.0</td>\n",
       "      <td>1.946345</td>\n",
       "    </tr>\n",
       "    <tr>\n",
       "      <th>4247</th>\n",
       "      <td>243744</td>\n",
       "      <td>Stanford University</td>\n",
       "      <td>94305</td>\n",
       "      <td>CA</td>\n",
       "      <td>1739.0</td>\n",
       "      <td>854.0</td>\n",
       "      <td>885.0</td>\n",
       "      <td>1087.0</td>\n",
       "      <td>1031.0</td>\n",
       "      <td>1.054316</td>\n",
       "    </tr>\n",
       "  </tbody>\n",
       "</table>\n",
       "</div>"
      ],
      "text/plain": [
       "      UNITID                                INSTNM         ZIP STABBR   ENRLT  \\\n",
       "241   110574  California State University-East Bay       94542     CA  1596.0   \n",
       "246   110635     University of California-Berkeley       94720     CA  6182.0   \n",
       "254   110714   University of California-Santa Cruz  95064-1011     CA  4221.0   \n",
       "490   122597        San Francisco State University       94132     CA  3642.0   \n",
       "492   122612           University of San Francisco  94117-1080     CA  1587.0   \n",
       "505   122931                Santa Clara University       95053     CA  1317.0   \n",
       "524   123572               Sonoma State University  94928-3609     CA  1806.0   \n",
       "4247  243744                   Stanford University       94305     CA  1739.0   \n",
       "\n",
       "       ENRLM   ENRLW  ADMSSNW  ADMSSNM     Ratio  \n",
       "241    588.0  1008.0   7039.0   3891.0  1.809047  \n",
       "246   2997.0  3185.0   7766.0   6209.0  1.250765  \n",
       "254   2149.0  2072.0  15883.0  12569.0  1.263665  \n",
       "490   1483.0  2159.0  15688.0   9016.0  1.740018  \n",
       "492    576.0  1011.0   7245.0   3666.0  1.976268  \n",
       "505    650.0   667.0   4271.0   3377.0  1.264732  \n",
       "524    629.0  1177.0   8307.0   4268.0  1.946345  \n",
       "4247   854.0   885.0   1087.0   1031.0  1.054316  "
      ]
     },
     "execution_count": 16,
     "metadata": {},
     "output_type": "execute_result"
    }
   ],
   "source": [
    "bay_df['Ratio']= bay_df['ADMSSNW']/ bay_df['ADMSSNM']\n",
    "bay_df"
   ]
  },
  {
   "cell_type": "markdown",
   "metadata": {},
   "source": [
    "### Standardizing the ratio on mean"
   ]
  },
  {
   "cell_type": "markdown",
   "metadata": {},
   "source": [
    "This can be done by dividing the calculated ratio for each university by the mean of all ratios"
   ]
  },
  {
   "cell_type": "code",
   "execution_count": 17,
   "metadata": {},
   "outputs": [
    {
     "data": {
      "text/plain": [
       "1.5381444208883028"
      ]
     },
     "execution_count": 17,
     "metadata": {},
     "output_type": "execute_result"
    }
   ],
   "source": [
    "# Calculating the mean of all ratio \n",
    "bay_df['Ratio'].mean() "
   ]
  },
  {
   "cell_type": "code",
   "execution_count": 18,
   "metadata": {},
   "outputs": [
    {
     "data": {
      "text/html": [
       "<div>\n",
       "<style scoped>\n",
       "    .dataframe tbody tr th:only-of-type {\n",
       "        vertical-align: middle;\n",
       "    }\n",
       "\n",
       "    .dataframe tbody tr th {\n",
       "        vertical-align: top;\n",
       "    }\n",
       "\n",
       "    .dataframe thead th {\n",
       "        text-align: right;\n",
       "    }\n",
       "</style>\n",
       "<table border=\"1\" class=\"dataframe\">\n",
       "  <thead>\n",
       "    <tr style=\"text-align: right;\">\n",
       "      <th></th>\n",
       "      <th>UNITID</th>\n",
       "      <th>INSTNM</th>\n",
       "      <th>ZIP</th>\n",
       "      <th>STABBR</th>\n",
       "      <th>ENRLT</th>\n",
       "      <th>ENRLM</th>\n",
       "      <th>ENRLW</th>\n",
       "      <th>ADMSSNW</th>\n",
       "      <th>ADMSSNM</th>\n",
       "      <th>Ratio</th>\n",
       "      <th>Std_Mean</th>\n",
       "    </tr>\n",
       "  </thead>\n",
       "  <tbody>\n",
       "    <tr>\n",
       "      <th>4247</th>\n",
       "      <td>243744</td>\n",
       "      <td>Stanford University</td>\n",
       "      <td>94305</td>\n",
       "      <td>CA</td>\n",
       "      <td>1739.0</td>\n",
       "      <td>854.0</td>\n",
       "      <td>885.0</td>\n",
       "      <td>1087.0</td>\n",
       "      <td>1031.0</td>\n",
       "      <td>1.054316</td>\n",
       "      <td>0.685447</td>\n",
       "    </tr>\n",
       "    <tr>\n",
       "      <th>246</th>\n",
       "      <td>110635</td>\n",
       "      <td>University of California-Berkeley</td>\n",
       "      <td>94720</td>\n",
       "      <td>CA</td>\n",
       "      <td>6182.0</td>\n",
       "      <td>2997.0</td>\n",
       "      <td>3185.0</td>\n",
       "      <td>7766.0</td>\n",
       "      <td>6209.0</td>\n",
       "      <td>1.250765</td>\n",
       "      <td>0.813165</td>\n",
       "    </tr>\n",
       "    <tr>\n",
       "      <th>254</th>\n",
       "      <td>110714</td>\n",
       "      <td>University of California-Santa Cruz</td>\n",
       "      <td>95064-1011</td>\n",
       "      <td>CA</td>\n",
       "      <td>4221.0</td>\n",
       "      <td>2149.0</td>\n",
       "      <td>2072.0</td>\n",
       "      <td>15883.0</td>\n",
       "      <td>12569.0</td>\n",
       "      <td>1.263665</td>\n",
       "      <td>0.821551</td>\n",
       "    </tr>\n",
       "    <tr>\n",
       "      <th>505</th>\n",
       "      <td>122931</td>\n",
       "      <td>Santa Clara University</td>\n",
       "      <td>95053</td>\n",
       "      <td>CA</td>\n",
       "      <td>1317.0</td>\n",
       "      <td>650.0</td>\n",
       "      <td>667.0</td>\n",
       "      <td>4271.0</td>\n",
       "      <td>3377.0</td>\n",
       "      <td>1.264732</td>\n",
       "      <td>0.822245</td>\n",
       "    </tr>\n",
       "    <tr>\n",
       "      <th>490</th>\n",
       "      <td>122597</td>\n",
       "      <td>San Francisco State University</td>\n",
       "      <td>94132</td>\n",
       "      <td>CA</td>\n",
       "      <td>3642.0</td>\n",
       "      <td>1483.0</td>\n",
       "      <td>2159.0</td>\n",
       "      <td>15688.0</td>\n",
       "      <td>9016.0</td>\n",
       "      <td>1.740018</td>\n",
       "      <td>1.131245</td>\n",
       "    </tr>\n",
       "    <tr>\n",
       "      <th>241</th>\n",
       "      <td>110574</td>\n",
       "      <td>California State University-East Bay</td>\n",
       "      <td>94542</td>\n",
       "      <td>CA</td>\n",
       "      <td>1596.0</td>\n",
       "      <td>588.0</td>\n",
       "      <td>1008.0</td>\n",
       "      <td>7039.0</td>\n",
       "      <td>3891.0</td>\n",
       "      <td>1.809047</td>\n",
       "      <td>1.176123</td>\n",
       "    </tr>\n",
       "    <tr>\n",
       "      <th>524</th>\n",
       "      <td>123572</td>\n",
       "      <td>Sonoma State University</td>\n",
       "      <td>94928-3609</td>\n",
       "      <td>CA</td>\n",
       "      <td>1806.0</td>\n",
       "      <td>629.0</td>\n",
       "      <td>1177.0</td>\n",
       "      <td>8307.0</td>\n",
       "      <td>4268.0</td>\n",
       "      <td>1.946345</td>\n",
       "      <td>1.265385</td>\n",
       "    </tr>\n",
       "    <tr>\n",
       "      <th>492</th>\n",
       "      <td>122612</td>\n",
       "      <td>University of San Francisco</td>\n",
       "      <td>94117-1080</td>\n",
       "      <td>CA</td>\n",
       "      <td>1587.0</td>\n",
       "      <td>576.0</td>\n",
       "      <td>1011.0</td>\n",
       "      <td>7245.0</td>\n",
       "      <td>3666.0</td>\n",
       "      <td>1.976268</td>\n",
       "      <td>1.284839</td>\n",
       "    </tr>\n",
       "  </tbody>\n",
       "</table>\n",
       "</div>"
      ],
      "text/plain": [
       "      UNITID                                INSTNM         ZIP STABBR   ENRLT  \\\n",
       "4247  243744                   Stanford University       94305     CA  1739.0   \n",
       "246   110635     University of California-Berkeley       94720     CA  6182.0   \n",
       "254   110714   University of California-Santa Cruz  95064-1011     CA  4221.0   \n",
       "505   122931                Santa Clara University       95053     CA  1317.0   \n",
       "490   122597        San Francisco State University       94132     CA  3642.0   \n",
       "241   110574  California State University-East Bay       94542     CA  1596.0   \n",
       "524   123572               Sonoma State University  94928-3609     CA  1806.0   \n",
       "492   122612           University of San Francisco  94117-1080     CA  1587.0   \n",
       "\n",
       "       ENRLM   ENRLW  ADMSSNW  ADMSSNM     Ratio  Std_Mean  \n",
       "4247   854.0   885.0   1087.0   1031.0  1.054316  0.685447  \n",
       "246   2997.0  3185.0   7766.0   6209.0  1.250765  0.813165  \n",
       "254   2149.0  2072.0  15883.0  12569.0  1.263665  0.821551  \n",
       "505    650.0   667.0   4271.0   3377.0  1.264732  0.822245  \n",
       "490   1483.0  2159.0  15688.0   9016.0  1.740018  1.131245  \n",
       "241    588.0  1008.0   7039.0   3891.0  1.809047  1.176123  \n",
       "524    629.0  1177.0   8307.0   4268.0  1.946345  1.265385  \n",
       "492    576.0  1011.0   7245.0   3666.0  1.976268  1.284839  "
      ]
     },
     "execution_count": 18,
     "metadata": {},
     "output_type": "execute_result"
    }
   ],
   "source": [
    "bay_df['Std_Mean']=bay_df['Ratio']/bay_df['Ratio'].mean()\n",
    "bay_df=bay_df.sort_values(by='Std_Mean')\n",
    "bay_df"
   ]
  },
  {
   "cell_type": "markdown",
   "metadata": {},
   "source": [
    "### Plotting the Barplot for the ratio of admissions for women and men for universities in the Bay Area"
   ]
  },
  {
   "cell_type": "code",
   "execution_count": 19,
   "metadata": {},
   "outputs": [
    {
     "data": {
      "image/png": "[encoded data removed]",
      "text/plain": [
       "<matplotlib.figure.Figure at 0x14ef60f0>"
      ]
     },
     "metadata": {},
     "output_type": "display_data"
    }
   ],
   "source": [
    "plt.figure(figsize=(10,6))\n",
    "ax = sn.barplot(x=\"INSTNM\", y=\"Std_Mean\", data=bay_df)\n",
    "ax.set_title(\"The  ratio of admissions for women and men for universities in the Bay Area\",fontname=\"Arial\", fontsize=14);\n",
    "ax.set_xlabel('Ratio of admissions for women and men',fontname=\"Arial\", fontsize=14);\n",
    "ax.set_ylabel('Institution in Bay Area',fontname=\"Arial\", fontsize=14 );\n",
    "plt.xticks(rotation=90);"
   ]
  },
  {
   "cell_type": "markdown",
   "metadata": {},
   "source": [
    "# Interpretation of all the plots "
   ]
  },
  {
   "cell_type": "markdown",
   "metadata": {},
   "source": [
    "#### Interpretation of Plot 1"
   ]
  },
  {
   "cell_type": "markdown",
   "metadata": {},
   "source": [
    "As plot 1 is generated on mean data, it is shown in the form of single line. Had the box plot been generated on the complete dataset instead of average values, it would have been more clear.\n",
    "\n",
    "It can be seen that the average enrollment in universities is not dependent on the number of institutions in the state."
   ]
  },
  {
   "cell_type": "markdown",
   "metadata": {},
   "source": [
    "#### Interpretation of Plot 2"
   ]
  },
  {
   "cell_type": "markdown",
   "metadata": {},
   "source": [
    "Plot 2 shows the average number of enrollment per gender category and state in the U.S. West. \n",
    "\n",
    "Mean values are indicated by green triangle and there is strong influence of outliers on the average.\n",
    "\n",
    "Based on the plot it can be depicted that the average number of enrollemt for women is more than men in most of the states."
   ]
  },
  {
   "cell_type": "markdown",
   "metadata": {},
   "source": [
    "#### Interpretation of Plot 3"
   ]
  },
  {
   "cell_type": "markdown",
   "metadata": {},
   "source": [
    "While seeing the data for institution in the bay area for more than 1000 enrollments, the number of women admission is more than men.\n",
    "\n",
    "University of San Francisco has the highest women to men enrollment standarized to mean ratio which is near to mean ratio. That tells that this University give preferences to women applicants and there is maximum difference in university enrollment based on gender.\n",
    "\n",
    "Stanford University has the maximum deviation from mean ratio of women to men enrollments. So this can be said that number of enrollment for men is comparable and there is not much of difference in admission based on gender.\n",
    "\n"
   ]
  }
 ],
 "metadata": {
  "kernelspec": {
   "display_name": "Python 3",
   "language": "python",
   "name": "python3"
  },
  "language_info": {
   "codemirror_mode": {
    "name": "ipython",
    "version": 3
   },
   "file_extension": ".py",
   "mimetype": "text/x-python",
   "name": "python",
   "nbconvert_exporter": "python",
   "pygments_lexer": "ipython3",
   "version": "3.6.4"
  },
  "toc": {
   "nav_menu": {},
   "number_sections": true,
   "sideBar": true,
   "skip_h1_title": false,
   "title_cell": "Table of Contents",
   "title_sidebar": "Contents",
   "toc_cell": false,
   "toc_position": {},
   "toc_section_display": "block",
   "toc_window_display": false
  },
  "varInspector": {
   "cols": {
    "lenName": 16,
    "lenType": 16,
    "lenVar": 40
   },
   "kernels_config": {
    "python": {
     "delete_cmd_postfix": "",
     "delete_cmd_prefix": "del ",
     "library": "var_list.py",
     "varRefreshCmd": "print(var_dic_list())"
    },
    "r": {
     "delete_cmd_postfix": ") ",
     "delete_cmd_prefix": "rm(",
     "library": "var_list.r",
     "varRefreshCmd": "cat(var_dic_list()) "
    }
   },
   "types_to_exclude": [
    "module",
    "function",
    "builtin_function_or_method",
    "instance",
    "_Feature"
   ],
   "window_display": false
  }
 },
 "nbformat": 4,
 "nbformat_minor": 2
}
